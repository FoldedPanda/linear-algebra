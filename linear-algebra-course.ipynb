{
 "metadata": {
  "language_info": {
   "codemirror_mode": {
    "name": "ipython",
    "version": 3
   },
   "file_extension": ".py",
   "mimetype": "text/x-python",
   "name": "python",
   "nbconvert_exporter": "python",
   "pygments_lexer": "ipython3",
   "version": "3.8.5-final"
  },
  "orig_nbformat": 2,
  "kernelspec": {
   "name": "python3",
   "display_name": "Python 3"
  }
 },
 "nbformat": 4,
 "nbformat_minor": 2,
 "cells": [
  {
   "cell_type": "code",
   "execution_count": 22,
   "metadata": {},
   "outputs": [],
   "source": [
    "import numpy as np\n",
    "import matplotlib.pyplot as plt\n",
    "from mpl_toolkits.mplot3d import Axes3D\n",
    "import math"
   ]
  },
  {
   "cell_type": "code",
   "execution_count": null,
   "metadata": {},
   "outputs": [],
   "source": [
    "# 2-dimensional vector\n",
    "v2 = [ 3, -2 ]\n",
    "\n",
    "# 3-dimensional vector\n",
    "v3 = [ 4, -3, 2 ]\n",
    "\n",
    "# row to column (or vice-versa):\n",
    "v3t = np.transpose(v3)\n",
    "\n",
    "\n",
    "# plot them\n",
    "plt.plot([0,v2[0]],[0,v2[1]])\n",
    "plt.axis('equal')\n",
    "plt.plot([-4, 4],[0, 0],'k--')\n",
    "plt.plot([0, 0],[-4, 4],'k--')\n",
    "plt.grid()\n",
    "plt.axis((-4, 4, -4, 4))\n",
    "plt.show()\n",
    "\n",
    "\n",
    "# plot the 3D vector\n",
    "fig = plt.figure(figsize=plt.figaspect(1))\n",
    "ax = fig.gca(projection='3d')\n",
    "ax.plot([0, v3[0]],[0, v3[1]],[0, v3[2]],linewidth=3)\n",
    "\n",
    "# make the plot look nicer\n",
    "ax.plot([0, 0],[0, 0],[-4, 4],'k--')\n",
    "ax.plot([0, 0],[-4, 4],[0, 0],'k--')\n",
    "ax.plot([-4, 4],[0, 0],[0, 0],'k--')\n",
    "plt.show()"
   ]
  },
  {
   "source": [
    "#Lesson 14\n",
    "v1 = np.random.rand(1, 100)\n",
    "v2 = np.random.rand(1, 100)\n",
    "\n",
    "\n",
    "dp1 = np.dot(v1, v2)\n",
    "dp2 = np.dot(v2, v1)\n",
    "\n",
    "print(dp1)\n",
    "print(dp2)"
   ],
   "cell_type": "code",
   "metadata": {},
   "execution_count": null,
   "outputs": []
  },
  {
   "cell_type": "code",
   "execution_count": 47,
   "metadata": {},
   "outputs": [
    {
     "output_type": "stream",
     "name": "stdout",
     "text": [
      "[2, 3]\n[2 3]\n"
     ]
    },
    {
     "output_type": "execute_result",
     "data": {
      "text/plain": [
       "3.605551275463989"
      ]
     },
     "metadata": {},
     "execution_count": 47
    }
   ],
   "source": [
    "#Lesson 15\n",
    "\n",
    "# v1 = np.random.rand(5)\n",
    "# print(v1)\n",
    "a1 =  [2, 3]\n",
    "v1 = np.asarray(a1)\n",
    "print(a1)\n",
    "print(v1)\n",
    "\n",
    "dp = np.dot(v1, v1)\n",
    "math.sqrt(dp)"
   ]
  },
  {
   "cell_type": "code",
   "execution_count": null,
   "metadata": {},
   "outputs": [],
   "source": []
  }
 ]
}